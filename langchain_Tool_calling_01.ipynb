{
  "nbformat": 4,
  "nbformat_minor": 0,
  "metadata": {
    "colab": {
      "provenance": [],
      "authorship_tag": "ABX9TyMhOuo6vx03l8dx+kJFaw9C",
      "include_colab_link": true
    },
    "kernelspec": {
      "name": "python3",
      "display_name": "Python 3"
    },
    "language_info": {
      "name": "python"
    }
  },
  "cells": [
    {
      "cell_type": "markdown",
      "metadata": {
        "id": "view-in-github",
        "colab_type": "text"
      },
      "source": [
        "<a href=\"https://colab.research.google.com/github/Mustafaadeel1/Assignament-Q2/blob/main/langchain_Tool_calling_01.ipynb\" target=\"_parent\"><img src=\"https://colab.research.google.com/assets/colab-badge.svg\" alt=\"Open In Colab\"/></a>"
      ]
    },
    {
      "cell_type": "code",
      "execution_count": null,
      "metadata": {
        "id": "2xIfVJJLkhos"
      },
      "outputs": [],
      "source": [
        "!pip install langchain google-generativeai langchain_google_genai -qU"
      ]
    },
    {
      "cell_type": "code",
      "source": [
        "from google.colab import userdata\n",
        "GOOGLE_API_KEY = userdata.get('GOOGLE_API_KEY')"
      ],
      "metadata": {
        "id": "pKnUOxjzlNMe"
      },
      "execution_count": null,
      "outputs": []
    },
    {
      "cell_type": "code",
      "source": [
        "import math"
      ],
      "metadata": {
        "id": "3hihOsOGzGh6"
      },
      "execution_count": null,
      "outputs": []
    },
    {
      "cell_type": "code",
      "source": [
        "from langchain_core.tools import tool\n",
        "# Add raper function\n",
        "@tool\n",
        "def Calculator(expression):\n",
        "    \"\"\"\n",
        "    Evaluate a mathematical expression with Google Docs-style syntax.\n",
        "\n",
        "    Parameters:\n",
        "    expression (str): The mathematical expression to evaluate.\n",
        "                      It should start with '=' (e.g., '=2+2' or '=SUM(1,2,3)').\n",
        "\n",
        "    Returns:\n",
        "    float: The result of the evaluation.\n",
        "    \"\"\"\n",
        "    if not expression.startswith('='):\n",
        "        raise ValueError(\"Expression must start with '='.\")\n",
        "\n",
        "    # Remove the '=' from the start\n",
        "    expression = expression[1:].strip()\n",
        "\n",
        "    # Define available functions like SUM, AVG\n",
        "    def SUM(*args):\n",
        "        return sum(args)\n",
        "\n",
        "    def AVG(*args):\n",
        "        return sum(args) / len(args) if args else 0\n",
        "\n",
        "    # Available namespace for eval\n",
        "    allowed_functions = {\n",
        "        'SUM': SUM,\n",
        "        'AVG': AVG,\n",
        "        **math.__dict__  # Add all math functions (like sin, cos, etc.)\n",
        "    }\n",
        "\n",
        "    try:\n",
        "        # Evaluate the expression in a safe environment\n",
        "        result = eval(expression, {\"__builtins__\": None}, allowed_functions)\n",
        "    except Exception as e:\n",
        "        return f\"Error in evaluation: {e}\"\n",
        "\n",
        "    return result\n",
        "import requests\n",
        "@tool\n",
        "def fetch_latest_news(api_key, category='general', country='us'):\n",
        "    \"\"\"\n",
        "    Fetch the latest news using the NewsAPI.\n",
        "\n",
        "    Args:\n",
        "    - api_key (str): Your NewsAPI key.\n",
        "    - category (str): The category of news (e.g., 'technology', 'sports', etc.).\n",
        "    - country (str): The country code for the news source (e.g., 'us', 'in').\n",
        "\n",
        "    Returns:\n",
        "    - str: Latest news headlines or an error message.\n",
        "    \"\"\"\n",
        "    api_key = \"c14272b7748b418c953f7ee6cf82a3c8\"\n",
        "    url = f\"https://newsapi.org/v2/top-headlines?category={category}&country={country}&apiKey={api_key}\"\n",
        "    try:\n",
        "        response = requests.get(url)\n",
        "        if response.status_code == 200:\n",
        "            data = response.json()\n",
        "            articles = data.get('articles', [])\n",
        "            if articles:\n",
        "                news = [f\"{i+1}. {article['title']}\\n   Source: {article['source']['name']}\"\n",
        "                        for i, article in enumerate(articles[:10])]\n",
        "                return \"\\n\\n\".join(news)\n",
        "            else:\n",
        "                return \"No news articles found.\"\n",
        "        else:\n",
        "            return f\"Error: Unable to fetch news (Status Code: {response.status_code})\"\n",
        "    except Exception as e:\n",
        "        return f\"Error: {e}\"\n",
        "        import yfinance as yf\n",
        "\n",
        "@tool\n",
        "def fetch_stock_data(ticker):\n",
        "    \"\"\"\n",
        "    Fetch stock data for the given ticker symbol using Alpha Vantage.\n",
        "\n",
        "    Args:\n",
        "    - ticker (str): The stock ticker symbol (e.g., 'AAPL', 'GOOGL').\n",
        "\n",
        "    Returns:\n",
        "    - str: Stock information or an error message.\n",
        "    \"\"\"\n",
        "    import requests\n",
        "\n",
        "    api_key = \"AqWbGjogZ8vS2XDCQjo3X3A3495ouUGb\"\n",
        "    url = f\"https://www.alphavantage.co/query?function=GLOBAL_QUOTE&symbol={ticker}&apikey={api_key}\"\n",
        "\n",
        "    try:\n",
        "        response = requests.get(url)\n",
        "        data = response.json()\n",
        "\n",
        "        if \"Global Quote\" in data:\n",
        "            quote = data[\"Global Quote\"]\n",
        "            return (\n",
        "                f\"Stock: {ticker.upper()}\\n\"\n",
        "                f\"Current Price: ${quote.get('05. price', 'N/A')}\\n\"\n",
        "                f\"Previous Close: ${quote.get('08. previous close', 'N/A')}\\n\"\n",
        "                f\"Day's High: ${quote.get('03. high', 'N/A')}\\n\"\n",
        "                f\"Day's Low: ${quote.get('04. low', 'N/A')}\\n\"\n",
        "                f\"Volume: {quote.get('06. volume', 'N/A')}\\n\"\n",
        "            )\n",
        "        else:\n",
        "            return \"Error: No stock data found for the given ticker.\"\n",
        "    except Exception as e:\n",
        "        return f\"Error fetching stock data: {e}\"\n",
        "\n"
      ],
      "metadata": {
        "id": "JnxxG1-VqdO_"
      },
      "execution_count": null,
      "outputs": []
    },
    {
      "cell_type": "code",
      "source": [
        "tools = [Calculator , fetch_latest_news , fetch_stock_data]"
      ],
      "metadata": {
        "id": "Qt109s06tXnf"
      },
      "execution_count": null,
      "outputs": []
    },
    {
      "cell_type": "code",
      "source": [
        "from langchain_google_genai import ChatGoogleGenerativeAI\n",
        "llm = ChatGoogleGenerativeAI(model=\"gemini-2.0-flash-exp\",api_key= GOOGLE_API_KEY )"
      ],
      "metadata": {
        "id": "-k_kIQ94tpfF"
      },
      "execution_count": null,
      "outputs": []
    },
    {
      "cell_type": "code",
      "source": [
        "responce = llm.invoke(\"What is 3 time 3\")\n",
        "responce.content"
      ],
      "metadata": {
        "colab": {
          "base_uri": "https://localhost:8080/",
          "height": 36
        },
        "id": "jDyU1_RSuLmj",
        "outputId": "7a8d352c-859a-44e0-c1b6-85fd009aa386"
      },
      "execution_count": null,
      "outputs": [
        {
          "output_type": "execute_result",
          "data": {
            "text/plain": [
              "'3 times 3 is **9**.'"
            ],
            "application/vnd.google.colaboratory.intrinsic+json": {
              "type": "string"
            }
          },
          "metadata": {},
          "execution_count": 129
        }
      ]
    },
    {
      "cell_type": "code",
      "source": [
        "from langchain.agents import initialize_agent ,AgentType"
      ],
      "metadata": {
        "id": "bFJWcsVHuepr"
      },
      "execution_count": null,
      "outputs": []
    },
    {
      "cell_type": "code",
      "source": [
        "agent = initialize_agent(tools,llm,agent=AgentType.STRUCTURED_CHAT_ZERO_SHOT_REACT_DESCRIPTION)"
      ],
      "metadata": {
        "id": "r7Nb_hosuo3_"
      },
      "execution_count": null,
      "outputs": []
    },
    {
      "cell_type": "code",
      "source": [
        "responce = agent.invoke({\"input\":\"What is 2 multiply by 8\"})\n",
        "responce"
      ],
      "metadata": {
        "colab": {
          "base_uri": "https://localhost:8080/"
        },
        "id": "oWMn78ORwOYq",
        "outputId": "7472b991-c611-4cfe-b824-089ae9f98ec7"
      },
      "execution_count": null,
      "outputs": [
        {
          "output_type": "execute_result",
          "data": {
            "text/plain": [
              "{'input': 'What is 2 multiply by 8', 'output': '2 multiplied by 8 is 16.'}"
            ]
          },
          "metadata": {},
          "execution_count": 132
        }
      ]
    },
    {
      "cell_type": "code",
      "source": [
        "responce = agent.invoke({\"input\":\"What is 2 multiply by 8\"})\n",
        "responce[\"output\"]"
      ],
      "metadata": {
        "colab": {
          "base_uri": "https://localhost:8080/",
          "height": 36
        },
        "id": "_jx6Ekc6wjuB",
        "outputId": "894a3d67-13e4-43fe-d1eb-844e021ff3a8"
      },
      "execution_count": null,
      "outputs": [
        {
          "output_type": "execute_result",
          "data": {
            "text/plain": [
              "'2 multiplied by 8 is 16.'"
            ],
            "application/vnd.google.colaboratory.intrinsic+json": {
              "type": "string"
            }
          },
          "metadata": {},
          "execution_count": 133
        }
      ]
    },
    {
      "cell_type": "code",
      "source": [
        "responce = agent.invoke({\"input\":\"What is latest news\"})\n",
        "responce[\"output\"]"
      ],
      "metadata": {
        "colab": {
          "base_uri": "https://localhost:8080/",
          "height": 218
        },
        "id": "i7ySD-1rxKji",
        "outputId": "093b6d9a-3cda-4fc5-fc6c-18edf1b4e42a"
      },
      "execution_count": null,
      "outputs": [
        {
          "output_type": "execute_result",
          "data": {
            "text/plain": [
              "'Here are the latest news headlines:\\n\\n1. Disney Buys Fubo, Killing Venu Lawsuit - Front Office Sports\\n2. Deadly winter storm leaves hundreds of thousands without power as heavy snow treks east - The Washington Post\\n3. Zendaya and Tom Holland are engaged after she debuts diamond ring at Golden Globes: reports - Yahoo Entertainment\\n4. Venezuela’s Dissidents Plot Comeback After Months in Hiding, Exile or Jail - The Wall Street Journal\\n5. Report: Christian Watson is believed to have suffered torn ACL - NBC Sports\\n6. Biden to ban offshore oil, gas drilling in vast areas ahead of Trump term - Reuters\\n7. Live coverage: SpaceX to launch first dedicated Starlink mission of 2025 - Spaceflight Now\\n8. US top doctor wants cancer warning on alcohol: What does the science say? - Al Jazeera English\\n9. Winter Storm Hits D.C., Maryland, Virginia; Schools Closed - The Weather Channel'"
            ],
            "application/vnd.google.colaboratory.intrinsic+json": {
              "type": "string"
            }
          },
          "metadata": {},
          "execution_count": 134
        }
      ]
    },
    {
      "cell_type": "code",
      "source": [
        "responce = agent.invoke({\"input\":\"What is latest stock coin Bitcoin\"})\n",
        "responce[\"output\"]"
      ],
      "metadata": {
        "colab": {
          "base_uri": "https://localhost:8080/",
          "height": 54
        },
        "id": "RIYOhtGL66lb",
        "outputId": "ad705634-3966-4e22-dc2a-8b9c54b9deac"
      },
      "execution_count": null,
      "outputs": [
        {
          "output_type": "execute_result",
          "data": {
            "text/plain": [
              "\"The current price of Bitcoin (BTC) is $45.3400. The previous close was $43.6000, the day's high is $45.5100, and the day's low is $43.8200. The volume is 2,727,840.\""
            ],
            "application/vnd.google.colaboratory.intrinsic+json": {
              "type": "string"
            }
          },
          "metadata": {},
          "execution_count": 136
        }
      ]
    }
  ]
}