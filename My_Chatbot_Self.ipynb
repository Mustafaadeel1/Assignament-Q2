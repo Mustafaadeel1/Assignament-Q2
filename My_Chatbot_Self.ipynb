{
  "nbformat": 4,
  "nbformat_minor": 0,
  "metadata": {
    "colab": {
      "provenance": [],
      "authorship_tag": "ABX9TyPKKe8EN0l9FEeQTea6uOQP",
      "include_colab_link": true
    },
    "kernelspec": {
      "name": "python3",
      "display_name": "Python 3"
    },
    "language_info": {
      "name": "python"
    }
  },
  "cells": [
    {
      "cell_type": "markdown",
      "metadata": {
        "id": "view-in-github",
        "colab_type": "text"
      },
      "source": [
        "<a href=\"https://colab.research.google.com/github/Mustafaadeel1/Assignament-Q2/blob/main/My_Chatbot_Self.ipynb\" target=\"_parent\"><img src=\"https://colab.research.google.com/assets/colab-badge.svg\" alt=\"Open In Colab\"/></a>"
      ]
    },
    {
      "cell_type": "code",
      "execution_count": null,
      "metadata": {
        "id": "hw4ZzTEZ4dIc"
      },
      "outputs": [],
      "source": [
        "from google.colab import userdata\n",
        "api_key =userdata.get('GOOGLE_API_KEY')"
      ]
    },
    {
      "cell_type": "code",
      "source": [
        "!pip install -U -q google-generativeai"
      ],
      "metadata": {
        "id": "ycmpsZsZlhiG"
      },
      "execution_count": null,
      "outputs": []
    },
    {
      "cell_type": "code",
      "source": [
        "import google.generativeai as genai"
      ],
      "metadata": {
        "id": "urYWnDYMl5Y5"
      },
      "execution_count": null,
      "outputs": []
    },
    {
      "cell_type": "code",
      "source": [
        "genai.configure(api_key=api_key)"
      ],
      "metadata": {
        "id": "SQoCzsnOmXz7"
      },
      "execution_count": null,
      "outputs": []
    },
    {
      "cell_type": "code",
      "source": [
        "modle = genai.GenerativeModel(\"gemini-1.5-flash\")\n",
        "responce = modle.generate_content(input())\n",
        "print(responce.text)"
      ],
      "metadata": {
        "colab": {
          "base_uri": "https://localhost:8080/",
          "height": 332
        },
        "id": "nX141jt5npiP",
        "outputId": "56806909-0196-4d93-c552-6cd2877717ba"
      },
      "execution_count": null,
      "outputs": [
        {
          "output_type": "stream",
          "name": "stdout",
          "text": [
            "DO you know about Genrative ai\n",
            "Yes, I do.  Generative AI refers to a type of artificial intelligence that can create new content, rather than just analyzing or classifying existing data.  This content can take many forms, including:\n",
            "\n",
            "* **Text:**  Writing stories, articles, summaries, code, scripts, musical pieces, email, letters, etc.  Examples include models like GPT-3, LaMDA, and Bard.\n",
            "\n",
            "* **Images:** Generating realistic or stylized images from text descriptions (prompts).  Examples include DALL-E 2, Stable Diffusion, and Midjourney.\n",
            "\n",
            "* **Audio:** Creating music, sound effects, and speech.  Examples include Jukebox and other AI music generation tools.\n",
            "\n",
            "* **Video:**  Generating short video clips, though this is still a relatively nascent area.\n",
            "\n",
            "* **3D Models:** Creating three-dimensional objects and scenes.\n",
            "\n",
            "Generative AI models typically use deep learning techniques, often involving large language models (LLMs) or generative adversarial networks (GANs).  LLMs learn patterns and relationships in massive datasets of text and code, allowing them to generate human-like text. GANs consist of two networks, a generator and a discriminator, that compete against each other to produce increasingly realistic outputs.\n",
            "\n",
            "The capabilities of generative AI are rapidly advancing, leading to both exciting possibilities and potential concerns.  While it can be incredibly useful for creative tasks, automating processes, and accelerating research, there are also ethical considerations around copyright, misinformation, and potential misuse.\n",
            "\n"
          ]
        }
      ]
    }
  ]
}